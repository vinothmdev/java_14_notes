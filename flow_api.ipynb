{
 "cells": [
  {
   "cell_type": "markdown",
   "metadata": {},
   "source": [
    "# Flow API\n",
    "\n",
    "Java flow has four major building block\n",
    "\n",
    "> - Publisher\n",
    "> - Subscriber\n",
    "> - Processor\n",
    "> - Subscription\n",
    "\n",
    "## Publisher\n",
    "\n",
    "__Publisher__ is function interface, _Publisher_ publishes asynchronously usually with help of _Executor_.\n",
    "We need to implement the _subscribe()_ method to create our own publisher.\n",
    "\n",
    "\n"
   ]
  },
  {
   "cell_type": "code",
   "execution_count": 2,
   "metadata": {},
   "outputs": [],
   "source": [
    "import java.util.concurrent.Flow;\n",
    "\n",
    "public class MySubscriber<T> implements Flow.Subscriber<T> {\n",
    "\n",
    "    private Flow.Subscription subscription;\n",
    "\n",
    "    @Override\n",
    "    public void onSubscribe(Flow.Subscription subscription) {\n",
    "        this.subscription = subscription;\n",
    "    }\n",
    "\n",
    "    @Override\n",
    "    public void onNext(T item) {\n",
    "        System.out.println(item); // Print it.\n",
    "        subscription.request(1); // Ask for one more.\n",
    "    }\n",
    "\n",
    "    @Override\n",
    "    public void onError(Throwable throwable) {\n",
    "        throwable.printStackTrace();\n",
    "    }\n",
    "\n",
    "    @Override\n",
    "    public void onComplete() {\n",
    "        System.out.println(\"DONE\"); // Done with the stream of data.\n",
    "    }\n",
    "    \n",
    "    public static void main(String[] args) {\n",
    "        var test = new MySubscriber<>();\n",
    "        System.out.println(test);\n",
    "    }\n",
    "}"
   ]
  },
  {
   "cell_type": "code",
   "execution_count": 7,
   "metadata": {},
   "outputs": [],
   "source": [
    "import java.util.List;\n",
    "import java.util.concurrent.SubmissionPublisher;\n",
    "\n",
    "public class Main {\n",
    "\n",
    "    public static void main(String[] args) {\n",
    "        System.out.println(\"Start Flow\");\n",
    "        var items = List.of(\"1\", \"2\", \"3\", \"4\", \"5\", \"6\", \"7\", \"8\", \"9\");\n",
    "        var publisher = new SubmissionPublisher<>();\n",
    "        publisher.subscribe(new MySubscriber<>());\n",
    "\n",
    "        items.forEach(s -> {\n",
    "            try {\n",
    "                Thread.sleep(1000);\n",
    "            } catch (InterruptedException e) {\n",
    "                e.printStackTrace();\n",
    "            }\n",
    "        publisher.offer(\n",
    "            s,\n",
    "            2,\n",
    "            TimeUnit.SECONDS,\n",
    "            (subscriber, msg) -> {\n",
    "              subscriber.onError(\n",
    "                new RuntimeException(\"Msg dropped due to slow subscriber: \" + msg));\n",
    "              return false; // don't retry, we don't believe in second opportunities\n",
    "        });\n",
    "            System.out.println(\"published \" + s);\n",
    "        });\n",
    "\n",
    "        System.out.println(\"Start End\");\n",
    "        \n",
    "        while (publisher.estimateMaximumLag() > 0) {\n",
    "            try {\n",
    "                Thread.sleep(500000L);\n",
    "            } catch (InterruptedException e) {\n",
    "                e.printStackTrace();\n",
    "            }\n",
    "        }\n",
    "        \n",
    "        publisher.close();\n",
    "    }\n",
    "}"
   ]
  },
  {
   "cell_type": "code",
   "execution_count": null,
   "metadata": {},
   "outputs": [
    {
     "name": "stdout",
     "output_type": "stream",
     "text": [
      "Start Flow\n",
      "published 1\n",
      "published 2\n",
      "published 3\n",
      "published 4\n",
      "published 5\n",
      "published 6\n",
      "published 7\n",
      "published 8\n",
      "published 9\n",
      "Start End\n"
     ]
    }
   ],
   "source": [
    "Main.main(new String[]{\"\"})"
   ]
  },
  {
   "cell_type": "code",
   "execution_count": null,
   "metadata": {},
   "outputs": [],
   "source": []
  }
 ],
 "metadata": {
  "kernelspec": {
   "display_name": "Java",
   "language": "java",
   "name": "java"
  },
  "language_info": {
   "codemirror_mode": "java",
   "file_extension": ".jshell",
   "mimetype": "text/x-java-source",
   "name": "Java",
   "pygments_lexer": "java",
   "version": "14.0.1+7"
  }
 },
 "nbformat": 4,
 "nbformat_minor": 4
}
